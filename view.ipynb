{
 "cells": [
  {
   "cell_type": "code",
   "execution_count": 3,
   "metadata": {},
   "outputs": [],
   "source": [
    "import scipy.io as io\n",
    "# read data/zuco/task1/Matlab_files/resultsZAB_SR.mat\n",
    "sentence_data = io.loadmat('data/zuco/task1/Matlab_files/resultsZAB_SR.mat', squeeze_me=True, struct_as_record=False,)['sentenceData']"
   ]
  },
  {
   "cell_type": "code",
   "execution_count": 6,
   "metadata": {},
   "outputs": [],
   "source": [
    "import numpy as np\n",
    "import pandas as pd\n",
    "sn_data = sentence_data[0]\n",
    "dur = np.array(sn_data.allFixations.duration)\n",
    "x = np.array(sn_data.allFixations.x)\n",
    "y = np.array(sn_data.allFixations.y)\n"
   ]
  },
  {
   "cell_type": "code",
   "execution_count": 12,
   "metadata": {},
   "outputs": [
    {
     "data": {
      "text/plain": [
       "'Presents a good case while failing to provide a reason for us to care beyond the very basic dictums of human decency.'"
      ]
     },
     "execution_count": 12,
     "metadata": {},
     "output_type": "execute_result"
    }
   ],
   "source": [
    "sn_data.content"
   ]
  },
  {
   "cell_type": "code",
   "execution_count": null,
   "metadata": {},
   "outputs": [],
   "source": [
    "word_boundary = sn_data.wordbounds\n",
    "df = pd.DataFrame([], columns=['sn', 'wn', 'fl', 'dur'])\n",
    "for fix_idx in range(x.shape[0]):\n",
    "    word_idx = np.where(\n",
    "        (word_boundary[:, 0] <= x[fix_idx]) &\n",
    "        (word_boundary[:, 2] >= x[fix_idx]) &\n",
    "        (word_boundary[:, 1] <= y[fix_idx]) &\n",
    "        (word_boundary[:, 3] >= y[fix_idx]),\n",
    "    )\n",
    "    assert len(word_idx) == 1, 'more than 1 word is matched!'\n",
    "    # skip fixations outside all boundary boxes\n",
    "    if word_idx[0].size == 0:\n",
    "        continue\n",
    "    fl = ((x[fix_idx] - word_boundary[word_idx, 0]) /\n",
    "            (word_boundary[word_idx, 2] - word_boundary[word_idx, 0]))[0][0]\n",
    "    df_tmp = pd.DataFrame(\n",
    "        [[\n",
    "            1,  word_idx[0][0] + 1,\n",
    "            fl, dur[fix_idx],\n",
    "        ]], columns=['sn', 'wn', 'fl', 'dur'],\n",
    "    )\n",
    "    df = pd.concat([df, df_tmp])\n"
   ]
  },
  {
   "cell_type": "code",
   "execution_count": 11,
   "metadata": {},
   "outputs": [
    {
     "data": {
      "text/html": [
       "<div>\n",
       "<style scoped>\n",
       "    .dataframe tbody tr th:only-of-type {\n",
       "        vertical-align: middle;\n",
       "    }\n",
       "\n",
       "    .dataframe tbody tr th {\n",
       "        vertical-align: top;\n",
       "    }\n",
       "\n",
       "    .dataframe thead th {\n",
       "        text-align: right;\n",
       "    }\n",
       "</style>\n",
       "<table border=\"1\" class=\"dataframe\">\n",
       "  <thead>\n",
       "    <tr style=\"text-align: right;\">\n",
       "      <th></th>\n",
       "      <th>id</th>\n",
       "      <th>sn</th>\n",
       "      <th>nw</th>\n",
       "      <th>wn</th>\n",
       "      <th>fl</th>\n",
       "      <th>dur</th>\n",
       "      <th>CURRENT_FIX_INTEREST_AREA_LABEL</th>\n",
       "    </tr>\n",
       "  </thead>\n",
       "  <tbody>\n",
       "  </tbody>\n",
       "</table>\n",
       "</div>"
      ],
      "text/plain": [
       "Empty DataFrame\n",
       "Columns: [id, sn, nw, wn, fl, dur, CURRENT_FIX_INTEREST_AREA_LABEL]\n",
       "Index: []"
      ]
     },
     "execution_count": 11,
     "metadata": {},
     "output_type": "execute_result"
    }
   ],
   "source": [
    "words = pd.read_csv(\"data/zuco/task1/Matlab_files/scanpath.csv\", sep='\\t')\n",
    "# check is there is nan in words\n",
    "words.isnull().values.any()\n",
    "\n",
    "# check if there is nan or '' in column 'WORD'\n",
    "words[words['CURRENT_FIX_INTEREST_AREA_LABEL'].isnull().values]\n",
    "words[words['CURRENT_FIX_INTEREST_AREA_LABEL'] == '']"
   ]
  }
 ],
 "metadata": {
  "kernelspec": {
   "display_name": "scan",
   "language": "python",
   "name": "python3"
  },
  "language_info": {
   "codemirror_mode": {
    "name": "ipython",
    "version": 3
   },
   "file_extension": ".py",
   "mimetype": "text/x-python",
   "name": "python",
   "nbconvert_exporter": "python",
   "pygments_lexer": "ipython3",
   "version": "3.9.18"
  }
 },
 "nbformat": 4,
 "nbformat_minor": 2
}
